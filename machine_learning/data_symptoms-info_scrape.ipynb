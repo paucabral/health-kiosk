{
 "cells": [
  {
   "cell_type": "markdown",
   "metadata": {},
   "source": [
    "Importing the necessary libraries."
   ]
  },
  {
   "cell_type": "code",
   "execution_count": 3,
   "metadata": {},
   "outputs": [],
   "source": [
    "import csv\n",
    "import numpy as np\n",
    "import pandas as pd\n",
    "from collections import defaultdict\n",
    "import requests\n",
    "from bs4 import BeautifulSoup"
   ]
  },
  {
   "cell_type": "markdown",
   "metadata": {},
   "source": [
    "Load the CSV for UMLS code and symptom pairs."
   ]
  },
  {
   "cell_type": "code",
   "execution_count": 4,
   "metadata": {},
   "outputs": [
    {
     "data": {
      "text/html": [
       "<div>\n",
       "<style scoped>\n",
       "    .dataframe tbody tr th:only-of-type {\n",
       "        vertical-align: middle;\n",
       "    }\n",
       "\n",
       "    .dataframe tbody tr th {\n",
       "        vertical-align: top;\n",
       "    }\n",
       "\n",
       "    .dataframe thead th {\n",
       "        text-align: right;\n",
       "    }\n",
       "</style>\n",
       "<table border=\"1\" class=\"dataframe\">\n",
       "  <thead>\n",
       "    <tr style=\"text-align: right;\">\n",
       "      <th></th>\n",
       "      <th>umls</th>\n",
       "      <th>symptom</th>\n",
       "    </tr>\n",
       "  </thead>\n",
       "  <tbody>\n",
       "    <tr>\n",
       "      <th>0</th>\n",
       "      <td>C0008031</td>\n",
       "      <td>pain chest</td>\n",
       "    </tr>\n",
       "    <tr>\n",
       "      <th>1</th>\n",
       "      <td>C0392680</td>\n",
       "      <td>shortness of breath</td>\n",
       "    </tr>\n",
       "    <tr>\n",
       "      <th>2</th>\n",
       "      <td>C0012833</td>\n",
       "      <td>dizziness</td>\n",
       "    </tr>\n",
       "    <tr>\n",
       "      <th>3</th>\n",
       "      <td>C0004093</td>\n",
       "      <td>asthenia</td>\n",
       "    </tr>\n",
       "    <tr>\n",
       "      <th>4</th>\n",
       "      <td>C0085639</td>\n",
       "      <td>fall</td>\n",
       "    </tr>\n",
       "    <tr>\n",
       "      <th>...</th>\n",
       "      <td>...</td>\n",
       "      <td>...</td>\n",
       "    </tr>\n",
       "    <tr>\n",
       "      <th>1902</th>\n",
       "      <td>C0741453</td>\n",
       "      <td>bedridden</td>\n",
       "    </tr>\n",
       "    <tr>\n",
       "      <th>1903</th>\n",
       "      <td>C0242453</td>\n",
       "      <td>prostatism</td>\n",
       "    </tr>\n",
       "    <tr>\n",
       "      <th>1904</th>\n",
       "      <td>C0232257</td>\n",
       "      <td>systolic murmur</td>\n",
       "    </tr>\n",
       "    <tr>\n",
       "      <th>1905</th>\n",
       "      <td>C0871754</td>\n",
       "      <td>frail</td>\n",
       "    </tr>\n",
       "    <tr>\n",
       "      <th>1906</th>\n",
       "      <td>C0015967</td>\n",
       "      <td>fever</td>\n",
       "    </tr>\n",
       "  </tbody>\n",
       "</table>\n",
       "<p>1907 rows × 2 columns</p>\n",
       "</div>"
      ],
      "text/plain": [
       "          umls              symptom\n",
       "0     C0008031           pain chest\n",
       "1     C0392680  shortness of breath\n",
       "2     C0012833            dizziness\n",
       "3     C0004093             asthenia\n",
       "4     C0085639                 fall\n",
       "...        ...                  ...\n",
       "1902  C0741453            bedridden\n",
       "1903  C0242453           prostatism\n",
       "1904  C0232257      systolic murmur\n",
       "1905  C0871754                frail\n",
       "1906  C0015967                fever\n",
       "\n",
       "[1907 rows x 2 columns]"
      ]
     },
     "execution_count": 4,
     "metadata": {},
     "output_type": "execute_result"
    }
   ],
   "source": [
    "CSV_FILEPATH = 'dataset/symptom-umls-code_pairs.csv'\n",
    "data = pd.read_csv(CSV_FILEPATH)\n",
    "data"
   ]
  },
  {
   "cell_type": "code",
   "execution_count": 35,
   "metadata": {},
   "outputs": [],
   "source": [
    "symptom_name = 'bedridden'\n",
    "term = 'C0741453'\n",
    "URL = \"https://www.ncbi.nlm.nih.gov/medgen/?term={}\".format(term)\n",
    "r = requests.get(URL)"
   ]
  },
  {
   "cell_type": "code",
   "execution_count": 37,
   "metadata": {},
   "outputs": [
    {
     "name": "stdout",
     "output_type": "stream",
     "text": [
      "{'symptom': 'bedridden', 'code': 'C0741453', 'description': 'Confined to bed (by illness).\\xa0[from NCI]', 'source_name': 'NCI', 'source_link': 'http://ncit.nci.nih.gov', 'root_url': 'https://www.ncbi.nlm.nih.gov/medgen/?term=C0741453'}\n"
     ]
    }
   ],
   "source": [
    "soup = BeautifulSoup(r.content, 'html5lib')\n",
    "symptom_info = soup.find(\"div\", {\"class\": \"portlet_content ln\"})\n",
    "description = symptom_info.text\n",
    "source_name = symptom_info.find(\"a\").text\n",
    "source_link = symptom_info.find(\"a\")['href']\n",
    "\n",
    "entry = {\n",
    "  \"symptom\": symptom_name,\n",
    "  \"code\": term,\n",
    "  \"description\": description,\n",
    "  \"source_name\": source_name,\n",
    "  \"source_link\": source_link,\n",
    "  \"root_url\": URL\n",
    "}\n",
    "\n",
    "print(entry)"
   ]
  },
  {
   "cell_type": "code",
   "execution_count": null,
   "metadata": {},
   "outputs": [],
   "source": []
  }
 ],
 "metadata": {
  "interpreter": {
   "hash": "916dbcbb3f70747c44a77c7bcd40155683ae19c65e1c03b4aa3499c5328201f1"
  },
  "kernelspec": {
   "display_name": "Python 3.8.10 64-bit",
   "language": "python",
   "name": "python3"
  },
  "language_info": {
   "codemirror_mode": {
    "name": "ipython",
    "version": 3
   },
   "file_extension": ".py",
   "mimetype": "text/x-python",
   "name": "python",
   "nbconvert_exporter": "python",
   "pygments_lexer": "ipython3",
   "version": "3.8.10"
  },
  "orig_nbformat": 4
 },
 "nbformat": 4,
 "nbformat_minor": 2
}
